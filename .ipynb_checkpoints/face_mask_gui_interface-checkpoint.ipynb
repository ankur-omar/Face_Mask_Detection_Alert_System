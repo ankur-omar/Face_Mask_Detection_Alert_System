{
 "cells": [
  {
   "cell_type": "code",
   "execution_count": 1,
   "metadata": {},
   "outputs": [],
   "source": [
    "from keras.models import load_model\n",
    "import cv2\n",
    "import numpy as np\n",
    "import tkinter\n",
    "from tkinter import messagebox\n",
    "import smtplib"
   ]
  },
  {
   "cell_type": "code",
   "execution_count": null,
   "metadata": {},
   "outputs": [],
   "source": [
    "root =tkinter.Tk()\n",
    "root.withdraw()\n",
    "\n",
    "model =load_model(r'C:\\Users\\me\\Desktop\\face_mask_detection\\face_mask_detection_system.h5')\n",
    "face_classifier = cv2.CascadeClassifier(r'C:\\Users\\me\\Desktop\\face_mask_detection\\haarcascade_frontalface_default.xml')\n",
    "\n",
    "vid_capture =cv2.VideoCapture(0)\n",
    "\n",
    "SUBJECT = \"Subject\"   \n",
    "TEXT = \"One Visitor violated Face Mask Policy. See in the camera to recognize user. A Person has been detected without a face mask in the Hotel Lobby Area 9. Please Alert the authorities.\"\n",
    "\n",
    "mask_dict ={0:'Mask On',1:'No Mask'}\n",
    "rectangle_color_dict ={0:(0.255,0),1:(0,0,255)}\n",
    "\n",
    "# while loop to continue detect camera feed\n",
    "\n",
    "while(True):\n",
    "    ret,img =vid_capture.read()\n",
    "    grayscale_image =cv2.cvtColor(img,cv2.COLOR_BGR2GRAY)\n",
    "    faces =face_classifier.detectMultiScale(grayscale_image,1.3,5)\n",
    "    for (x,y,w,h) in faces:\n",
    "        face_image = grayscale_image[y:y+w,x:x+w]\n",
    "        resize_img =cv2.resize(face_image,(112,112))\n",
    "        normalized_img =resize_img/255.0\n",
    "        reshape_img =np.reshape(normalized_img,(1,112,112,1))\n",
    "        result =model.predict(reshape_img)\n",
    "        label =np.argmax(result,axis =1)[0]\n",
    "        cv2.rectangle(img,(x,y),(x+w,y+h),rectangle_color_dict[label],2)\n",
    "        cv2.rectangle(img,(x,y-40),(x+w,y),rectangle_color_dict[label],-1)\n",
    "        cv2.putText(img,mask_dict[label],(x,y-10),cv2.FONT_HERSHEY_SIMPLEX,0.8,(0,0,0),2)\n",
    "        \n",
    "        if(label==1):\n",
    "            messagebox.showwarning(\"Warning\",\"Access Denied. Please wear a Face Mask\")\n",
    "            message = 'Subject: {}\\n\\n{}'.format(SUBJECT, TEXT)\n",
    "            mail = smtplib.SMTP('smtp.gmail.com', 587)\n",
    "            mail.ehlo()\n",
    "            mail.starttls()\n",
    "            mail.login('ankurkumaromar@gmail.com','iamankuromar')\n",
    "            mail.sendmail('ankurkumaromar@gmail.com','ankuromar261@gmail.com',message)\n",
    "            mail.close\n",
    "        else:\n",
    "            pass\n",
    "            break\n",
    "\n",
    "        cv2.imshow('LIVE Video Feed',img)\n",
    "        key=cv2.waitKey(1)\n",
    "    \n",
    "        if(key==27):\n",
    "            break\n",
    "        \n",
    "cv2.destroyAllWindows()\n",
    "source.release()\n",
    "          \n",
    "            \n",
    "        \n",
    "        "
   ]
  },
  {
   "cell_type": "code",
   "execution_count": 3,
   "metadata": {},
   "outputs": [],
   "source": []
  },
  {
   "cell_type": "code",
   "execution_count": 4,
   "metadata": {},
   "outputs": [],
   "source": []
  },
  {
   "cell_type": "code",
   "execution_count": 5,
   "metadata": {},
   "outputs": [],
   "source": []
  },
  {
   "cell_type": "code",
   "execution_count": null,
   "metadata": {},
   "outputs": [],
   "source": [
    "\n"
   ]
  },
  {
   "cell_type": "code",
   "execution_count": null,
   "metadata": {},
   "outputs": [],
   "source": []
  },
  {
   "cell_type": "code",
   "execution_count": null,
   "metadata": {},
   "outputs": [],
   "source": []
  },
  {
   "cell_type": "code",
   "execution_count": null,
   "metadata": {},
   "outputs": [],
   "source": []
  }
 ],
 "metadata": {
  "kernelspec": {
   "display_name": "Python 3",
   "language": "python",
   "name": "python3"
  },
  "language_info": {
   "codemirror_mode": {
    "name": "ipython",
    "version": 3
   },
   "file_extension": ".py",
   "mimetype": "text/x-python",
   "name": "python",
   "nbconvert_exporter": "python",
   "pygments_lexer": "ipython3",
   "version": "3.7.3"
  }
 },
 "nbformat": 4,
 "nbformat_minor": 2
}
