{
 "cells": [
  {
   "cell_type": "code",
   "execution_count": 2,
   "metadata": {},
   "outputs": [],
   "source": [
    "from keras.models import load_model\n",
    "import cv2\n",
    "import numpy as np\n",
    "import tkinter\n",
    "from tkinter import messagebox\n",
    "import smtplib"
   ]
  },
  {
   "cell_type": "code",
   "execution_count": 3,
   "metadata": {},
   "outputs": [
    {
     "ename": "error",
     "evalue": "OpenCV(4.4.0) C:\\Users\\appveyor\\AppData\\Local\\Temp\\1\\pip-req-build-2b5g8ysb\\opencv\\modules\\imgproc\\src\\color.cpp:182: error: (-215:Assertion failed) !_src.empty() in function 'cv::cvtColor'\n",
     "output_type": "error",
     "traceback": [
      "\u001b[1;31m---------------------------------------------------------------------------\u001b[0m",
      "\u001b[1;31merror\u001b[0m                                     Traceback (most recent call last)",
      "\u001b[1;32m<ipython-input-3-ded73383750a>\u001b[0m in \u001b[0;36m<module>\u001b[1;34m\u001b[0m\n\u001b[0;32m     16\u001b[0m \u001b[1;32mwhile\u001b[0m\u001b[1;33m(\u001b[0m\u001b[1;32mTrue\u001b[0m\u001b[1;33m)\u001b[0m\u001b[1;33m:\u001b[0m\u001b[1;33m\u001b[0m\u001b[1;33m\u001b[0m\u001b[0m\n\u001b[0;32m     17\u001b[0m     \u001b[0mret\u001b[0m\u001b[1;33m,\u001b[0m\u001b[0mimg\u001b[0m \u001b[1;33m=\u001b[0m\u001b[0mvid_capture\u001b[0m\u001b[1;33m.\u001b[0m\u001b[0mread\u001b[0m\u001b[1;33m(\u001b[0m\u001b[1;33m)\u001b[0m\u001b[1;33m\u001b[0m\u001b[1;33m\u001b[0m\u001b[0m\n\u001b[1;32m---> 18\u001b[1;33m     \u001b[0mgrayscale_image\u001b[0m \u001b[1;33m=\u001b[0m\u001b[0mcv2\u001b[0m\u001b[1;33m.\u001b[0m\u001b[0mcvtColor\u001b[0m\u001b[1;33m(\u001b[0m\u001b[0mimg\u001b[0m\u001b[1;33m,\u001b[0m\u001b[0mcv2\u001b[0m\u001b[1;33m.\u001b[0m\u001b[0mCOLOR_BGR2GRAY\u001b[0m\u001b[1;33m)\u001b[0m\u001b[1;33m\u001b[0m\u001b[1;33m\u001b[0m\u001b[0m\n\u001b[0m\u001b[0;32m     19\u001b[0m     \u001b[0mfaces\u001b[0m \u001b[1;33m=\u001b[0m\u001b[0mface_classifier\u001b[0m\u001b[1;33m.\u001b[0m\u001b[0mdetectMultiScale\u001b[0m\u001b[1;33m(\u001b[0m\u001b[0mgrayscale_image\u001b[0m\u001b[1;33m,\u001b[0m\u001b[1;36m1.3\u001b[0m\u001b[1;33m,\u001b[0m\u001b[1;36m5\u001b[0m\u001b[1;33m)\u001b[0m\u001b[1;33m\u001b[0m\u001b[1;33m\u001b[0m\u001b[0m\n\u001b[0;32m     20\u001b[0m     \u001b[1;32mfor\u001b[0m \u001b[1;33m(\u001b[0m\u001b[0mx\u001b[0m\u001b[1;33m,\u001b[0m\u001b[0my\u001b[0m\u001b[1;33m,\u001b[0m\u001b[0mw\u001b[0m\u001b[1;33m,\u001b[0m\u001b[0mh\u001b[0m\u001b[1;33m)\u001b[0m \u001b[1;32min\u001b[0m \u001b[0mfaces\u001b[0m\u001b[1;33m:\u001b[0m\u001b[1;33m\u001b[0m\u001b[1;33m\u001b[0m\u001b[0m\n",
      "\u001b[1;31merror\u001b[0m: OpenCV(4.4.0) C:\\Users\\appveyor\\AppData\\Local\\Temp\\1\\pip-req-build-2b5g8ysb\\opencv\\modules\\imgproc\\src\\color.cpp:182: error: (-215:Assertion failed) !_src.empty() in function 'cv::cvtColor'\n"
     ]
    }
   ],
   "source": [
    "root =tkinter.Tk()\n",
    "root.withdraw()\n",
    "\n",
    "model =load_model('face_mask_detection_system1.h5')\n",
    "face_classifier = cv2.CascadeClassifier('haarcascade_frontalface_default.xml')\n",
    "\n",
    "vid_capture =cv2.VideoCapture(2)\n",
    "\n",
    "SUBJECT = \"A Person Detected Without Mask\"   \n",
    "TEXT = \"One Visitor violated Face Mask Policy. See in the camera to recognize user. A Person has been detected without a face mask. Please Alert the authorities.\"\n",
    "\n",
    "mask_dict ={0:'Mask On',1:'No Mask'}\n",
    "rectangle_color_dict ={0:(0.255,0),1:(0,0,255)}\n",
    "\n",
    "# while loop to continue detect camera feed\n",
    "while(True):\n",
    "    ret,img =vid_capture.read()\n",
    "    grayscale_image =cv2.cvtColor(img,cv2.COLOR_BGR2GRAY)\n",
    "    faces =face_classifier.detectMultiScale(grayscale_image,1.3,5)\n",
    "    for (x,y,w,h) in faces:\n",
    "        face_image = grayscale_image[y:y+w,x:x+w]\n",
    "        resize_img =cv2.resize(face_image,(100,100))\n",
    "        normalized_img =resize_img/255.0\n",
    "        reshape_img =np.reshape(normalized_img,(1,100,100,1))\n",
    "        result =model.predict(reshape_img)\n",
    "        label =np.argmax(result,axis =1)[0]\n",
    "        cv2.rectangle(img,(x,y),(x+w,y+h),rectangle_color_dict[label],2)\n",
    "        cv2.rectangle(img,(x,y-40),(x+w,y),rectangle_color_dict[label],-1)\n",
    "        cv2.putText(img,mask_dict[label],(x,y-10),cv2.FONT_HERSHEY_SIMPLEX,0.8,(255,255,255),2)\n",
    "        \n",
    "        if(label==1):\n",
    "            messagebox.showwarning(\"Warning\",\"Access Denied. Please wear a Face Mask\")\n",
    "            message = 'Subject: {}\\n\\n{}'.format(SUBJECT, TEXT)\n",
    "            mail = smtplib.SMTP('smtp.gmail.com', 587)\n",
    "            mail.ehlo()\n",
    "            mail.starttls()\n",
    "            mail.login('ankurkumaromar@gmail.com','iamankuromar')\n",
    "            mail.sendmail('ankurkumaromar@gmail.com','ankuromar261@gmail.com',message)\n",
    "            mail.close\n",
    "        else:\n",
    "            pass\n",
    "            break\n",
    "\n",
    "        cv2.imshow('LIVE Video Feed',img)\n",
    "        key=cv2.waitKey(1)\n",
    "        if(key==27):\n",
    "            break\n",
    "        \n",
    "        \n",
    "cv2.destroyAllWindows()\n",
    "vid_capture.release()\n",
    "          \n",
    "            \n",
    "        \n",
    "        "
   ]
  },
  {
   "cell_type": "code",
   "execution_count": null,
   "metadata": {},
   "outputs": [],
   "source": []
  },
  {
   "cell_type": "code",
   "execution_count": 4,
   "metadata": {},
   "outputs": [],
   "source": []
  },
  {
   "cell_type": "code",
   "execution_count": 5,
   "metadata": {},
   "outputs": [],
   "source": []
  },
  {
   "cell_type": "code",
   "execution_count": null,
   "metadata": {},
   "outputs": [],
   "source": [
    "\n"
   ]
  },
  {
   "cell_type": "code",
   "execution_count": null,
   "metadata": {},
   "outputs": [],
   "source": []
  },
  {
   "cell_type": "code",
   "execution_count": null,
   "metadata": {},
   "outputs": [],
   "source": []
  },
  {
   "cell_type": "code",
   "execution_count": null,
   "metadata": {},
   "outputs": [],
   "source": []
  }
 ],
 "metadata": {
  "kernelspec": {
   "display_name": "Python 3",
   "language": "python",
   "name": "python3"
  },
  "language_info": {
   "codemirror_mode": {
    "name": "ipython",
    "version": 3
   },
   "file_extension": ".py",
   "mimetype": "text/x-python",
   "name": "python",
   "nbconvert_exporter": "python",
   "pygments_lexer": "ipython3",
   "version": "3.7.3"
  }
 },
 "nbformat": 4,
 "nbformat_minor": 2
}
